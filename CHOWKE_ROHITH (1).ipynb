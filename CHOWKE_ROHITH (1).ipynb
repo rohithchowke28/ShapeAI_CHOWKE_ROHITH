{
  "nbformat": 4,
  "nbformat_minor": 0,
  "metadata": {
    "colab": {
      "name": "CHOWKE ROHITH.ipynb",
      "provenance": []
    },
    "kernelspec": {
      "name": "python3",
      "display_name": "Python 3"
    },
    "language_info": {
      "name": "python"
    }
  },
  "cells": [
    {
      "cell_type": "code",
      "metadata": {
        "colab": {
          "base_uri": "https://localhost:8080/",
          "height": 128
        },
        "id": "d0dPuJoZDsQY",
        "outputId": "58d2d415-163b-4526-d554-9833661d1450"
      },
      "source": [
        "const express = require(\"expess\");\n",
        "const bodyparser = require(\"body-parser\")\n",
        "\n",
        "const app = express();\n",
        "app.use(body parser. urlencoded({extended: true}));\n",
        "\n",
        "app.get(\"/\", function(req, res){\n",
        "    res.sendfile(__dirname+\"/index.html\");\n",
        "});\n",
        "\n",
        "\n",
        "app.post(\"/\", function(req, res){\n",
        "    var n1 = number(req.body.num1);\n",
        "    var n1 = number(req.body.num2);\n",
        "    var result = n1+n2\n",
        "    res.send(\"the answer is\" + result);\n",
        "});\n",
        "\n",
        "app.listen(3000, function(){\n",
        "    console.log(\"server has started on port 3000\");\n",
        "});"
      ],
      "execution_count": 2,
      "outputs": [
        {
          "output_type": "error",
          "ename": "SyntaxError",
          "evalue": "ignored",
          "traceback": [
            "\u001b[0;36m  File \u001b[0;32m\"<ipython-input-2-728a0e26cbac>\"\u001b[0;36m, line \u001b[0;32m1\u001b[0m\n\u001b[0;31m    const express = require(\"expess\");\u001b[0m\n\u001b[0m                ^\u001b[0m\n\u001b[0;31mSyntaxError\u001b[0m\u001b[0;31m:\u001b[0m invalid syntax\n"
          ]
        }
      ]
    },
    {
      "cell_type": "code",
      "metadata": {
        "colab": {
          "base_uri": "https://localhost:8080/",
          "height": 128
        },
        "id": "KgGELldFD0NS",
        "outputId": "78cbf016-1418-4da4-f7ad-1af0c4ed4c06"
      },
      "source": [
        "!DOCTYPE html>\n",
        "<html lang=\"en\" dir=\"ltr\">\n",
        "<head>\n",
        "<meta charset=\"utf-8\">\n",
        "<title>calculator</title>\n",
        "</head>\n",
        "<body>\n",
        "<h1>calculator</h1>\n",
        "<form action=\"/\" method=\"post\">\n",
        "<input type=\"text\" name=\"num1\" placeholder=\"first number\">\n",
        "<input type=\"text\" name=\"num1\" placeholder=\"second number\">\n",
        "<button type=\"submit\" name=\"submit\">calculator</button>\n",
        "</form>\n",
        "</body>\n",
        "</html>"
      ],
      "execution_count": 3,
      "outputs": [
        {
          "output_type": "error",
          "ename": "SyntaxError",
          "evalue": "ignored",
          "traceback": [
            "\u001b[0;36m  File \u001b[0;32m\"<ipython-input-3-bcd2263de2cb>\"\u001b[0;36m, line \u001b[0;32m2\u001b[0m\n\u001b[0;31m    <html lang=\"en\" dir=\"ltr\">\u001b[0m\n\u001b[0m    ^\u001b[0m\n\u001b[0;31mSyntaxError\u001b[0m\u001b[0;31m:\u001b[0m invalid syntax\n"
          ]
        }
      ]
    }
  ]
}